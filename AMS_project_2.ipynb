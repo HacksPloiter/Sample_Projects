{
 "cells": [
  {
   "cell_type": "markdown",
   "metadata": {},
   "source": [
    "# AMS Project 2"
   ]
  },
  {
   "cell_type": "markdown",
   "metadata": {},
   "source": [
    "# Imports"
   ]
  },
  {
   "cell_type": "code",
   "execution_count": 1,
   "metadata": {},
   "outputs": [],
   "source": [
    "import pandas as pd\n",
    "from scipy.stats import skew, kurtosis, spearmanr\n",
    "import scipy.stats as stats\n",
    "import numpy as np\n",
    "import matplotlib.pyplot as plt\n",
    "import plotly.express as px\n",
    "from scipy.integrate import quad\n",
    "import seaborn as sns\n",
    "from scipy.stats import norm"
   ]
  },
  {
   "cell_type": "markdown",
   "metadata": {},
   "source": [
    "# 1. Task 1: Types of Measures and Central Tendency (10%)"
   ]
  },
  {
   "cell_type": "markdown",
   "metadata": {},
   "source": [
    "### 1A.  Identify and categorize the columns in the dataset as numeric or categoric."
   ]
  },
  {
   "cell_type": "code",
   "execution_count": 2,
   "metadata": {},
   "outputs": [
    {
     "data": {
      "text/html": [
       "<div>\n",
       "<style scoped>\n",
       "    .dataframe tbody tr th:only-of-type {\n",
       "        vertical-align: middle;\n",
       "    }\n",
       "\n",
       "    .dataframe tbody tr th {\n",
       "        vertical-align: top;\n",
       "    }\n",
       "\n",
       "    .dataframe thead th {\n",
       "        text-align: right;\n",
       "    }\n",
       "</style>\n",
       "<table border=\"1\" class=\"dataframe\">\n",
       "  <thead>\n",
       "    <tr style=\"text-align: right;\">\n",
       "      <th></th>\n",
       "      <th>Row ID</th>\n",
       "      <th>Order ID</th>\n",
       "      <th>Order Date</th>\n",
       "      <th>Ship Date</th>\n",
       "      <th>Ship Mode</th>\n",
       "      <th>Customer ID</th>\n",
       "      <th>Customer Name</th>\n",
       "      <th>Segment</th>\n",
       "      <th>Postal Code</th>\n",
       "      <th>City</th>\n",
       "      <th>...</th>\n",
       "      <th>Product ID</th>\n",
       "      <th>Category</th>\n",
       "      <th>Sub-Category</th>\n",
       "      <th>Product Name</th>\n",
       "      <th>Sales</th>\n",
       "      <th>Quantity</th>\n",
       "      <th>Discount</th>\n",
       "      <th>Profit</th>\n",
       "      <th>Shipping Cost</th>\n",
       "      <th>Order Priority</th>\n",
       "    </tr>\n",
       "  </thead>\n",
       "  <tbody>\n",
       "    <tr>\n",
       "      <th>0</th>\n",
       "      <td>40098</td>\n",
       "      <td>CA-2014-AB10015140-41954</td>\n",
       "      <td>2014-11-11</td>\n",
       "      <td>2014-11-13</td>\n",
       "      <td>First Class</td>\n",
       "      <td>AB-100151402</td>\n",
       "      <td>Aaron Bergman</td>\n",
       "      <td>Consumer</td>\n",
       "      <td>73120.0</td>\n",
       "      <td>Oklahoma City</td>\n",
       "      <td>...</td>\n",
       "      <td>TEC-PH-5816</td>\n",
       "      <td>Technology</td>\n",
       "      <td>Phones</td>\n",
       "      <td>Samsung Convoy 3</td>\n",
       "      <td>221.980</td>\n",
       "      <td>2</td>\n",
       "      <td>0.0</td>\n",
       "      <td>62.1544</td>\n",
       "      <td>40.77</td>\n",
       "      <td>High</td>\n",
       "    </tr>\n",
       "    <tr>\n",
       "      <th>1</th>\n",
       "      <td>26341</td>\n",
       "      <td>IN-2014-JR162107-41675</td>\n",
       "      <td>2014-02-05</td>\n",
       "      <td>2014-02-07</td>\n",
       "      <td>Second Class</td>\n",
       "      <td>JR-162107</td>\n",
       "      <td>Justin Ritter</td>\n",
       "      <td>Corporate</td>\n",
       "      <td>NaN</td>\n",
       "      <td>Wollongong</td>\n",
       "      <td>...</td>\n",
       "      <td>FUR-CH-5379</td>\n",
       "      <td>Furniture</td>\n",
       "      <td>Chairs</td>\n",
       "      <td>Novimex Executive Leather Armchair, Black</td>\n",
       "      <td>3709.395</td>\n",
       "      <td>9</td>\n",
       "      <td>0.1</td>\n",
       "      <td>-288.7650</td>\n",
       "      <td>923.63</td>\n",
       "      <td>Critical</td>\n",
       "    </tr>\n",
       "    <tr>\n",
       "      <th>2</th>\n",
       "      <td>25330</td>\n",
       "      <td>IN-2014-CR127307-41929</td>\n",
       "      <td>2014-10-17</td>\n",
       "      <td>2014-10-18</td>\n",
       "      <td>First Class</td>\n",
       "      <td>CR-127307</td>\n",
       "      <td>Craig Reiter</td>\n",
       "      <td>Consumer</td>\n",
       "      <td>NaN</td>\n",
       "      <td>Brisbane</td>\n",
       "      <td>...</td>\n",
       "      <td>TEC-PH-5356</td>\n",
       "      <td>Technology</td>\n",
       "      <td>Phones</td>\n",
       "      <td>Nokia Smart Phone, with Caller ID</td>\n",
       "      <td>5175.171</td>\n",
       "      <td>9</td>\n",
       "      <td>0.1</td>\n",
       "      <td>919.9710</td>\n",
       "      <td>915.49</td>\n",
       "      <td>Medium</td>\n",
       "    </tr>\n",
       "    <tr>\n",
       "      <th>3</th>\n",
       "      <td>13524</td>\n",
       "      <td>ES-2014-KM1637548-41667</td>\n",
       "      <td>2014-01-28</td>\n",
       "      <td>2014-01-30</td>\n",
       "      <td>First Class</td>\n",
       "      <td>KM-1637548</td>\n",
       "      <td>Katherine Murray</td>\n",
       "      <td>Home Office</td>\n",
       "      <td>NaN</td>\n",
       "      <td>Berlin</td>\n",
       "      <td>...</td>\n",
       "      <td>TEC-PH-5267</td>\n",
       "      <td>Technology</td>\n",
       "      <td>Phones</td>\n",
       "      <td>Motorola Smart Phone, Cordless</td>\n",
       "      <td>2892.510</td>\n",
       "      <td>5</td>\n",
       "      <td>0.1</td>\n",
       "      <td>-96.5400</td>\n",
       "      <td>910.16</td>\n",
       "      <td>Medium</td>\n",
       "    </tr>\n",
       "    <tr>\n",
       "      <th>4</th>\n",
       "      <td>47221</td>\n",
       "      <td>SG-2014-RH9495111-41948</td>\n",
       "      <td>2014-11-05</td>\n",
       "      <td>2014-11-06</td>\n",
       "      <td>Same Day</td>\n",
       "      <td>RH-9495111</td>\n",
       "      <td>Rick Hansen</td>\n",
       "      <td>Consumer</td>\n",
       "      <td>NaN</td>\n",
       "      <td>Dakar</td>\n",
       "      <td>...</td>\n",
       "      <td>TEC-CO-6011</td>\n",
       "      <td>Technology</td>\n",
       "      <td>Copiers</td>\n",
       "      <td>Sharp Wireless Fax, High-Speed</td>\n",
       "      <td>2832.960</td>\n",
       "      <td>8</td>\n",
       "      <td>0.0</td>\n",
       "      <td>311.5200</td>\n",
       "      <td>903.04</td>\n",
       "      <td>Critical</td>\n",
       "    </tr>\n",
       "  </tbody>\n",
       "</table>\n",
       "<p>5 rows × 24 columns</p>\n",
       "</div>"
      ],
      "text/plain": [
       "   Row ID                  Order ID Order Date  Ship Date     Ship Mode  \\\n",
       "0   40098  CA-2014-AB10015140-41954 2014-11-11 2014-11-13   First Class   \n",
       "1   26341    IN-2014-JR162107-41675 2014-02-05 2014-02-07  Second Class   \n",
       "2   25330    IN-2014-CR127307-41929 2014-10-17 2014-10-18   First Class   \n",
       "3   13524   ES-2014-KM1637548-41667 2014-01-28 2014-01-30   First Class   \n",
       "4   47221   SG-2014-RH9495111-41948 2014-11-05 2014-11-06      Same Day   \n",
       "\n",
       "    Customer ID     Customer Name      Segment  Postal Code           City  \\\n",
       "0  AB-100151402     Aaron Bergman     Consumer      73120.0  Oklahoma City   \n",
       "1     JR-162107     Justin Ritter    Corporate          NaN     Wollongong   \n",
       "2     CR-127307      Craig Reiter     Consumer          NaN       Brisbane   \n",
       "3    KM-1637548  Katherine Murray  Home Office          NaN         Berlin   \n",
       "4    RH-9495111       Rick Hansen     Consumer          NaN          Dakar   \n",
       "\n",
       "   ...   Product ID    Category Sub-Category  \\\n",
       "0  ...  TEC-PH-5816  Technology       Phones   \n",
       "1  ...  FUR-CH-5379   Furniture       Chairs   \n",
       "2  ...  TEC-PH-5356  Technology       Phones   \n",
       "3  ...  TEC-PH-5267  Technology       Phones   \n",
       "4  ...  TEC-CO-6011  Technology      Copiers   \n",
       "\n",
       "                                Product Name     Sales Quantity Discount  \\\n",
       "0                           Samsung Convoy 3   221.980        2      0.0   \n",
       "1  Novimex Executive Leather Armchair, Black  3709.395        9      0.1   \n",
       "2          Nokia Smart Phone, with Caller ID  5175.171        9      0.1   \n",
       "3             Motorola Smart Phone, Cordless  2892.510        5      0.1   \n",
       "4             Sharp Wireless Fax, High-Speed  2832.960        8      0.0   \n",
       "\n",
       "     Profit  Shipping Cost  Order Priority  \n",
       "0   62.1544          40.77            High  \n",
       "1 -288.7650         923.63        Critical  \n",
       "2  919.9710         915.49          Medium  \n",
       "3  -96.5400         910.16          Medium  \n",
       "4  311.5200         903.04        Critical  \n",
       "\n",
       "[5 rows x 24 columns]"
      ]
     },
     "execution_count": 2,
     "metadata": {},
     "output_type": "execute_result"
    }
   ],
   "source": [
    "datalink = \"https://github.com/anshupandey/Machine_Learning_Training/raw/master/datasets/global_superstore_2016.xlsx\"\n",
    "mydf = pd.read_excel(datalink, sheet_name='Orders')\n",
    "mydf.head()"
   ]
  },
  {
   "cell_type": "code",
   "execution_count": 3,
   "metadata": {},
   "outputs": [
    {
     "data": {
      "text/plain": [
       "Index(['Row ID', 'Order ID', 'Order Date', 'Ship Date', 'Ship Mode',\n",
       "       'Customer ID', 'Customer Name', 'Segment', 'Postal Code', 'City',\n",
       "       'State', 'Country', 'Region', 'Market', 'Product ID', 'Category',\n",
       "       'Sub-Category', 'Product Name', 'Sales', 'Quantity', 'Discount',\n",
       "       'Profit', 'Shipping Cost', 'Order Priority'],\n",
       "      dtype='object')"
      ]
     },
     "execution_count": 3,
     "metadata": {},
     "output_type": "execute_result"
    }
   ],
   "source": [
    "mydf.columns"
   ]
  },
  {
   "cell_type": "code",
   "execution_count": 4,
   "metadata": {},
   "outputs": [
    {
     "name": "stdout",
     "output_type": "stream",
     "text": [
      "<class 'pandas.core.frame.DataFrame'>\n",
      "RangeIndex: 51290 entries, 0 to 51289\n",
      "Data columns (total 24 columns):\n",
      " #   Column          Non-Null Count  Dtype         \n",
      "---  ------          --------------  -----         \n",
      " 0   Row ID          51290 non-null  int64         \n",
      " 1   Order ID        51290 non-null  object        \n",
      " 2   Order Date      51290 non-null  datetime64[ns]\n",
      " 3   Ship Date       51290 non-null  datetime64[ns]\n",
      " 4   Ship Mode       51290 non-null  object        \n",
      " 5   Customer ID     51290 non-null  object        \n",
      " 6   Customer Name   51290 non-null  object        \n",
      " 7   Segment         51290 non-null  object        \n",
      " 8   Postal Code     9994 non-null   float64       \n",
      " 9   City            51290 non-null  object        \n",
      " 10  State           51290 non-null  object        \n",
      " 11  Country         51290 non-null  object        \n",
      " 12  Region          51290 non-null  object        \n",
      " 13  Market          51290 non-null  object        \n",
      " 14  Product ID      51290 non-null  object        \n",
      " 15  Category        51290 non-null  object        \n",
      " 16  Sub-Category    51290 non-null  object        \n",
      " 17  Product Name    51290 non-null  object        \n",
      " 18  Sales           51290 non-null  float64       \n",
      " 19  Quantity        51290 non-null  int64         \n",
      " 20  Discount        51290 non-null  float64       \n",
      " 21  Profit          51290 non-null  float64       \n",
      " 22  Shipping Cost   51290 non-null  float64       \n",
      " 23  Order Priority  51290 non-null  object        \n",
      "dtypes: datetime64[ns](2), float64(5), int64(2), object(15)\n",
      "memory usage: 9.4+ MB\n",
      "None\n"
     ]
    }
   ],
   "source": [
    "print(mydf.info())"
   ]
  },
  {
   "cell_type": "code",
   "execution_count": 5,
   "metadata": {},
   "outputs": [
    {
     "data": {
      "text/plain": [
       "['Postal Code', 'Sales', 'Discount', 'Profit', 'Shipping Cost']"
      ]
     },
     "execution_count": 5,
     "metadata": {},
     "output_type": "execute_result"
    }
   ],
   "source": [
    "mydf.select_dtypes(include=['float64']).columns.tolist()"
   ]
  },
  {
   "cell_type": "code",
   "execution_count": 6,
   "metadata": {},
   "outputs": [
    {
     "data": {
      "text/plain": [
       "['Row ID', 'Quantity']"
      ]
     },
     "execution_count": 6,
     "metadata": {},
     "output_type": "execute_result"
    }
   ],
   "source": [
    "mydf.select_dtypes(include=['int64']).columns.tolist()"
   ]
  },
  {
   "cell_type": "code",
   "execution_count": 7,
   "metadata": {},
   "outputs": [
    {
     "data": {
      "text/plain": [
       "['Order ID',\n",
       " 'Ship Mode',\n",
       " 'Customer ID',\n",
       " 'Customer Name',\n",
       " 'Segment',\n",
       " 'City',\n",
       " 'State',\n",
       " 'Country',\n",
       " 'Region',\n",
       " 'Market',\n",
       " 'Product ID',\n",
       " 'Category',\n",
       " 'Sub-Category',\n",
       " 'Product Name',\n",
       " 'Order Priority']"
      ]
     },
     "execution_count": 7,
     "metadata": {},
     "output_type": "execute_result"
    }
   ],
   "source": [
    "mydf.select_dtypes(include=['object']).columns.tolist()"
   ]
  },
  {
   "cell_type": "markdown",
   "metadata": {},
   "source": [
    "In the above dataset, the numerical variables are: Row ID(int64), Postal Code(float64), Sales(float64), Quantity(int64), Discount(float64), Profit(float64) and Shipping Cost(float64)</br></br>\n",
    "Categorical columns are: 'Order ID',\n",
    " 'Ship Mode',\n",
    " 'Customer ID',\n",
    " 'Customer Name',\n",
    " 'Segment',\n",
    " 'City',\n",
    " 'State',\n",
    " 'Country',\n",
    " 'Region',\n",
    " 'Market',\n",
    " 'Product ID',\n",
    " 'Category',\n",
    " 'Sub-Category',\n",
    " 'Product Name' and\n",
    " 'Order Priority'</br></br>\n",
    "The date-time columns are (can be considered categorical): Order Date and Ship Date.</br>\n"
   ]
  },
  {
   "cell_type": "markdown",
   "metadata": {},
   "source": [
    "### 1B.  Calculate measures of central tendency (mean, median, mode) for the numeric columns."
   ]
  },
  {
   "cell_type": "code",
   "execution_count": 8,
   "metadata": {},
   "outputs": [
    {
     "name": "stdout",
     "output_type": "stream",
     "text": [
      "Postal Code:\n",
      "Mean: 55190.3794276566\n",
      "Median: 56430.5\n",
      "Mode: 10035.0\n",
      "\n",
      "Sales:\n",
      "Mean: 246.4905812025736\n",
      "Median: 85.053\n",
      "Mode: 12.96\n",
      "\n",
      "Quantity:\n",
      "Mean: 3.4765451355039967\n",
      "Median: 3.0\n",
      "Mode: 2\n",
      "\n",
      "Discount:\n",
      "Mean: 0.14290754533047376\n",
      "Median: 0.0\n",
      "Mode: 0.0\n",
      "\n",
      "Profit:\n",
      "Mean: 28.610982477675957\n",
      "Median: 9.24\n",
      "Mode: 0.0\n",
      "\n",
      "Shipping Cost:\n",
      "Mean: 26.478567038409036\n",
      "Median: 7.79\n",
      "Mode: 1.35\n",
      "\n"
     ]
    }
   ],
   "source": [
    "meaningfulnumcol = ['Postal Code', 'Sales', 'Quantity', 'Discount', 'Profit', 'Shipping Cost']\n",
    "for i in meaningfulnumcol:\n",
    "    print(f\"{i}:\\nMean: {mydf[i].mean()}\")\n",
    "    print(f\"Median: {mydf[i].median()}\")\n",
    "    print(f\"Mode: {mydf[i].mode().iloc[0]}\\n\")"
   ]
  },
  {
   "cell_type": "markdown",
   "metadata": {},
   "source": [
    "# 2. Task 2: Measure of Spread and Shape (10%)"
   ]
  },
  {
   "cell_type": "markdown",
   "metadata": {},
   "source": [
    "### 2A.  Calculate measures of spread (range, variance, standard deviation) for the numeric columns."
   ]
  },
  {
   "cell_type": "code",
   "execution_count": 9,
   "metadata": {},
   "outputs": [
    {
     "name": "stdout",
     "output_type": "stream",
     "text": [
      "Sales:\n",
      "Range: 22638.036\n",
      "Variance: 237719.98079710017\n",
      "Standard Deviation: 487.5653605385643\n",
      "\n",
      "Quantity:\n",
      "Range: 13\n",
      "Variance: 5.192775912925019\n",
      "Standard Deviation: 2.2787663138033745\n",
      "\n",
      "Discount:\n",
      "Range: 0.85\n",
      "Variance: 0.045062769396555916\n",
      "Standard Deviation: 0.21227993168586595\n",
      "\n",
      "Profit:\n",
      "Range: 14999.954\n",
      "Variance: 30394.77448304805\n",
      "Standard Deviation: 174.34097190003288\n",
      "\n",
      "Shipping Cost:\n",
      "Range: 932.5680000000001\n",
      "Variance: 3277.7197380584653\n",
      "Standard Deviation: 57.25137324168273\n",
      "\n"
     ]
    }
   ],
   "source": [
    "meaningfulnumcol = ['Sales', 'Quantity', 'Discount', 'Profit', 'Shipping Cost']\n",
    "for i in meaningfulnumcol:\n",
    "    print(f\"{i}:\\nRange: {mydf[i].max() - mydf[i].min()}\")\n",
    "    print(f\"Variance: {mydf[i].var()}\")\n",
    "    print(f\"Standard Deviation: {mydf[i].std()}\\n\")"
   ]
  },
  {
   "cell_type": "markdown",
   "metadata": {},
   "source": [
    "Using libraries to do the same:"
   ]
  },
  {
   "cell_type": "code",
   "execution_count": 10,
   "metadata": {},
   "outputs": [
    {
     "data": {
      "text/html": [
       "<div>\n",
       "<style scoped>\n",
       "    .dataframe tbody tr th:only-of-type {\n",
       "        vertical-align: middle;\n",
       "    }\n",
       "\n",
       "    .dataframe tbody tr th {\n",
       "        vertical-align: top;\n",
       "    }\n",
       "\n",
       "    .dataframe thead th {\n",
       "        text-align: right;\n",
       "    }\n",
       "</style>\n",
       "<table border=\"1\" class=\"dataframe\">\n",
       "  <thead>\n",
       "    <tr style=\"text-align: right;\">\n",
       "      <th></th>\n",
       "      <th>Row ID</th>\n",
       "      <th>Order Date</th>\n",
       "      <th>Ship Date</th>\n",
       "      <th>Postal Code</th>\n",
       "      <th>Sales</th>\n",
       "      <th>Quantity</th>\n",
       "      <th>Discount</th>\n",
       "      <th>Profit</th>\n",
       "      <th>Shipping Cost</th>\n",
       "    </tr>\n",
       "  </thead>\n",
       "  <tbody>\n",
       "    <tr>\n",
       "      <th>count</th>\n",
       "      <td>51290.00000</td>\n",
       "      <td>51290</td>\n",
       "      <td>51290</td>\n",
       "      <td>9994.000000</td>\n",
       "      <td>51290.000000</td>\n",
       "      <td>51290.000000</td>\n",
       "      <td>51290.000000</td>\n",
       "      <td>51290.000000</td>\n",
       "      <td>51290.000000</td>\n",
       "    </tr>\n",
       "    <tr>\n",
       "      <th>mean</th>\n",
       "      <td>25645.50000</td>\n",
       "      <td>2014-05-11 21:26:49.155780608</td>\n",
       "      <td>2014-05-15 20:42:42.745174528</td>\n",
       "      <td>55190.379428</td>\n",
       "      <td>246.490581</td>\n",
       "      <td>3.476545</td>\n",
       "      <td>0.142908</td>\n",
       "      <td>28.610982</td>\n",
       "      <td>26.478567</td>\n",
       "    </tr>\n",
       "    <tr>\n",
       "      <th>min</th>\n",
       "      <td>1.00000</td>\n",
       "      <td>2012-01-01 00:00:00</td>\n",
       "      <td>2012-01-03 00:00:00</td>\n",
       "      <td>1040.000000</td>\n",
       "      <td>0.444000</td>\n",
       "      <td>1.000000</td>\n",
       "      <td>0.000000</td>\n",
       "      <td>-6599.978000</td>\n",
       "      <td>1.002000</td>\n",
       "    </tr>\n",
       "    <tr>\n",
       "      <th>25%</th>\n",
       "      <td>12823.25000</td>\n",
       "      <td>2013-06-19 00:00:00</td>\n",
       "      <td>2013-06-23 00:00:00</td>\n",
       "      <td>23223.000000</td>\n",
       "      <td>30.758625</td>\n",
       "      <td>2.000000</td>\n",
       "      <td>0.000000</td>\n",
       "      <td>0.000000</td>\n",
       "      <td>2.610000</td>\n",
       "    </tr>\n",
       "    <tr>\n",
       "      <th>50%</th>\n",
       "      <td>25645.50000</td>\n",
       "      <td>2014-07-08 00:00:00</td>\n",
       "      <td>2014-07-12 00:00:00</td>\n",
       "      <td>56430.500000</td>\n",
       "      <td>85.053000</td>\n",
       "      <td>3.000000</td>\n",
       "      <td>0.000000</td>\n",
       "      <td>9.240000</td>\n",
       "      <td>7.790000</td>\n",
       "    </tr>\n",
       "    <tr>\n",
       "      <th>75%</th>\n",
       "      <td>38467.75000</td>\n",
       "      <td>2015-05-22 00:00:00</td>\n",
       "      <td>2015-05-26 00:00:00</td>\n",
       "      <td>90008.000000</td>\n",
       "      <td>251.053200</td>\n",
       "      <td>5.000000</td>\n",
       "      <td>0.200000</td>\n",
       "      <td>36.810000</td>\n",
       "      <td>24.450000</td>\n",
       "    </tr>\n",
       "    <tr>\n",
       "      <th>max</th>\n",
       "      <td>51290.00000</td>\n",
       "      <td>2015-12-31 00:00:00</td>\n",
       "      <td>2016-01-07 00:00:00</td>\n",
       "      <td>99301.000000</td>\n",
       "      <td>22638.480000</td>\n",
       "      <td>14.000000</td>\n",
       "      <td>0.850000</td>\n",
       "      <td>8399.976000</td>\n",
       "      <td>933.570000</td>\n",
       "    </tr>\n",
       "    <tr>\n",
       "      <th>std</th>\n",
       "      <td>14806.29199</td>\n",
       "      <td>NaN</td>\n",
       "      <td>NaN</td>\n",
       "      <td>32063.693350</td>\n",
       "      <td>487.565361</td>\n",
       "      <td>2.278766</td>\n",
       "      <td>0.212280</td>\n",
       "      <td>174.340972</td>\n",
       "      <td>57.251373</td>\n",
       "    </tr>\n",
       "  </tbody>\n",
       "</table>\n",
       "</div>"
      ],
      "text/plain": [
       "            Row ID                     Order Date  \\\n",
       "count  51290.00000                          51290   \n",
       "mean   25645.50000  2014-05-11 21:26:49.155780608   \n",
       "min        1.00000            2012-01-01 00:00:00   \n",
       "25%    12823.25000            2013-06-19 00:00:00   \n",
       "50%    25645.50000            2014-07-08 00:00:00   \n",
       "75%    38467.75000            2015-05-22 00:00:00   \n",
       "max    51290.00000            2015-12-31 00:00:00   \n",
       "std    14806.29199                            NaN   \n",
       "\n",
       "                           Ship Date   Postal Code         Sales  \\\n",
       "count                          51290   9994.000000  51290.000000   \n",
       "mean   2014-05-15 20:42:42.745174528  55190.379428    246.490581   \n",
       "min              2012-01-03 00:00:00   1040.000000      0.444000   \n",
       "25%              2013-06-23 00:00:00  23223.000000     30.758625   \n",
       "50%              2014-07-12 00:00:00  56430.500000     85.053000   \n",
       "75%              2015-05-26 00:00:00  90008.000000    251.053200   \n",
       "max              2016-01-07 00:00:00  99301.000000  22638.480000   \n",
       "std                              NaN  32063.693350    487.565361   \n",
       "\n",
       "           Quantity      Discount        Profit  Shipping Cost  \n",
       "count  51290.000000  51290.000000  51290.000000   51290.000000  \n",
       "mean       3.476545      0.142908     28.610982      26.478567  \n",
       "min        1.000000      0.000000  -6599.978000       1.002000  \n",
       "25%        2.000000      0.000000      0.000000       2.610000  \n",
       "50%        3.000000      0.000000      9.240000       7.790000  \n",
       "75%        5.000000      0.200000     36.810000      24.450000  \n",
       "max       14.000000      0.850000   8399.976000     933.570000  \n",
       "std        2.278766      0.212280    174.340972      57.251373  "
      ]
     },
     "execution_count": 10,
     "metadata": {},
     "output_type": "execute_result"
    }
   ],
   "source": [
    "mydf.describe()"
   ]
  },
  {
   "cell_type": "markdown",
   "metadata": {},
   "source": [
    "### 2B.  Analyze the shape of the data distribution using skewness and kurtosis."
   ]
  },
  {
   "cell_type": "code",
   "execution_count": 11,
   "metadata": {},
   "outputs": [
    {
     "name": "stdout",
     "output_type": "stream",
     "text": [
      "Sales:\n",
      "Skewness: 8.137842017336729\n",
      "Kurtosis: 176.7138548027632\n",
      "\n",
      "Quantity:\n",
      "Skewness: 1.3603279457897046\n",
      "Kurtosis: 2.2755498916923456\n",
      "\n",
      "Discount:\n",
      "Skewness: 1.387733965689321\n",
      "Kurtosis: 0.7164955650888873\n",
      "\n",
      "Profit:\n",
      "Skewness: 4.157066952869823\n",
      "Kurtosis: 291.38256518766633\n",
      "\n",
      "Shipping Cost:\n",
      "Skewness: 5.8726888810714515\n",
      "Kurtosis: 50.14083939361347\n",
      "\n"
     ]
    }
   ],
   "source": [
    "meaningfulnumcol = [ 'Sales', 'Quantity', 'Discount', 'Profit', 'Shipping Cost']\n",
    "for i in meaningfulnumcol:\n",
    "    print(f\"{i}:\\nSkewness: {skew(mydf[i])}\")\n",
    "    print(f\"Kurtosis: {kurtosis(mydf[i])}\\n\")"
   ]
  },
  {
   "cell_type": "markdown",
   "metadata": {},
   "source": [
    "Analysis:</br>\n",
    "1. Sales:\n",
    "    1. Skewness: A skewness value of 8.14 indicates that the distribution is highly positively skewed. This means there are a few extremely high sales values pulling the distribution to the right.\n",
    "    2. Kurtosis: A kurtosis value of 176.71 is extremely high, indicating a distribution with very heavy tails and a sharp peak. This suggests the presence of outliers with very high sales values.\n",
    "2. Quantity:\n",
    "    1. Skewness: A skewness value of 1.36 indicates a moderately positively skewed distribution. There are more quantities on the lower side, with fewer large quantity values.\n",
    "    2. Kurtosis: A kurtosis value of 2.28, which is close to the normal distribution value of 3, suggests that the tails of the distribution are similar to that of a normal distribution, though slightly less pronounced.\n",
    "3. Discount\n",
    "    1. Skewness: A skewness value of 1.39 indicates a moderately positively skewed distribution, with more lower discount values and fewer higher discount values.\n",
    "    2. Kurtosis: A kurtosis value of 0.72 is lower than 3, indicating a distribution with lighter tails and a flatter peak compared to a normal distribution.\n",
    "4. Profit:\n",
    "    1. Skewness: A skewness value of 4.16 indicates a highly positively skewed distribution, suggesting that most profit values are low with a few very high values.\n",
    "    2. Kurtosis: A kurtosis value of 291.38 is extremely high, indicating a distribution with very heavy tails and a sharp peak, suggesting the presence of significant outliers with very high profit values.\n",
    "5. Shipping Cost:\n",
    "    1. Skewness: A skewness value of 5.87 indicates a highly positively skewed distribution, meaning there are a few very high shipping cost values.\n",
    "    2. Kurtosis: A kurtosis value of 50.14 indicates a distribution with heavy tails and a sharp peak, suggesting the presence of significant outliers with very high shipping costs."
   ]
  },
  {
   "cell_type": "markdown",
   "metadata": {},
   "source": [
    "Summary:</br>\n",
    "Sales, Profit, and Shipping Cost: These distributions are highly positively skewed and have very high kurtosis values, indicating the presence of significant outliers and heavy tails.</br>\n",
    "Quantity and Discount: These distributions are moderately positively skewed with lower kurtosis values, indicating a more typical distribution shape with fewer outliers."
   ]
  },
  {
   "cell_type": "markdown",
   "metadata": {},
   "source": [
    "# 3. Task 3: Covariance and Correlation Analysis (20%)"
   ]
  },
  {
   "cell_type": "markdown",
   "metadata": {},
   "source": [
    "### 3A.  Calculate covariance and Pearson correlation between Sales and Profit."
   ]
  },
  {
   "cell_type": "code",
   "execution_count": 12,
   "metadata": {},
   "outputs": [
    {
     "data": {
      "text/plain": [
       "41219.309486429745"
      ]
     },
     "execution_count": 12,
     "metadata": {},
     "output_type": "execute_result"
    }
   ],
   "source": [
    "#  Co-variance using pandas\n",
    "mydf['Sales'].cov(mydf['Profit'])"
   ]
  },
  {
   "cell_type": "code",
   "execution_count": 13,
   "metadata": {},
   "outputs": [
    {
     "name": "stdout",
     "output_type": "stream",
     "text": [
      "41219.309486429745\n"
     ]
    }
   ],
   "source": [
    "# Co-variance using numpy\n",
    "spdf_cov = np.cov(mydf['Sales'], mydf['Profit'])\n",
    "print(spdf_cov[0][1])"
   ]
  },
  {
   "cell_type": "markdown",
   "metadata": {},
   "source": [
    "Analysis:</br>\n",
    "Co-variance 41219.309486429745 indicates a positive correlation between Sales and Profit, however it doesn't tell the strength of the correlation."
   ]
  },
  {
   "cell_type": "code",
   "execution_count": 14,
   "metadata": {},
   "outputs": [
    {
     "data": {
      "text/plain": [
       "0.48491811261944445"
      ]
     },
     "execution_count": 14,
     "metadata": {},
     "output_type": "execute_result"
    }
   ],
   "source": [
    "# Pearson correlation using pandas\n",
    "mydf['Sales'].corr(mydf['Profit'], method='pearson')"
   ]
  },
  {
   "cell_type": "code",
   "execution_count": 15,
   "metadata": {},
   "outputs": [
    {
     "name": "stdout",
     "output_type": "stream",
     "text": [
      "0.48491811261944445\n"
     ]
    }
   ],
   "source": [
    "# Pearson correlation using numpy\n",
    "spdf_cor = np.corrcoef(mydf['Sales'], mydf['Profit'])\n",
    "print(spdf_cor[0][1])"
   ]
  },
  {
   "cell_type": "markdown",
   "metadata": {},
   "source": [
    "Analysis</br>\n",
    "0.48491811261944445 indicates a moderate positive linear relationship between Sales and Profit."
   ]
  },
  {
   "cell_type": "markdown",
   "metadata": {},
   "source": [
    "### 3B.  Perform Spearman correlation analysis for the same variables."
   ]
  },
  {
   "cell_type": "code",
   "execution_count": 16,
   "metadata": {},
   "outputs": [
    {
     "data": {
      "text/plain": [
       "0.4901910469388152"
      ]
     },
     "execution_count": 16,
     "metadata": {},
     "output_type": "execute_result"
    }
   ],
   "source": [
    "# Spearman correlation using pandas\n",
    "mydf['Sales'].corr(mydf['Profit'], method='spearman')"
   ]
  },
  {
   "cell_type": "code",
   "execution_count": 17,
   "metadata": {},
   "outputs": [
    {
     "data": {
      "text/plain": [
       "0.4901910469388152"
      ]
     },
     "execution_count": 17,
     "metadata": {},
     "output_type": "execute_result"
    }
   ],
   "source": [
    "# Spearman correlation using scipy\n",
    "spdf_cor = spearmanr(mydf['Sales'], mydf['Profit'])\n",
    "spdf_cor[0]"
   ]
  },
  {
   "cell_type": "markdown",
   "metadata": {},
   "source": [
    "Analysis</br>\n",
    "0.48491811261944445 indicates a moderate positive linear relationship between Sales and Profit."
   ]
  },
  {
   "cell_type": "markdown",
   "metadata": {},
   "source": [
    "# 4. Task 4: Percentiles, Quartiles, and Outliers (20%)"
   ]
  },
  {
   "cell_type": "markdown",
   "metadata": {},
   "source": [
    "### 4A.  Calculate percentiles and quartiles for Sales."
   ]
  },
  {
   "cell_type": "code",
   "execution_count": 18,
   "metadata": {},
   "outputs": [
    {
     "name": "stdout",
     "output_type": "stream",
     "text": [
      "Percentiles:\n",
      "Q1 = 25 percentile = 30.758625000000002\n",
      "Median = 50 percentile = 85.053\n",
      "Q3 = 75 percentile = 251.0532\n"
     ]
    }
   ],
   "source": [
    "pc = [25, 50, 75]\n",
    "sale_per = np.percentile(mydf['Sales'], pc)\n",
    "SQ1, SMED, SQ3 = sale_per\n",
    "print(f\"Percentiles:\")\n",
    "print(f\"Q1 = 25 percentile = {SQ1}\")\n",
    "print(f\"Median = 50 percentile = {SMED}\")\n",
    "print(f\"Q3 = 75 percentile = {SQ3}\")"
   ]
  },
  {
   "cell_type": "markdown",
   "metadata": {},
   "source": [
    "### 4B.  Compute the interquartile range (IQR) and identify outliers using the IQR method."
   ]
  },
  {
   "cell_type": "code",
   "execution_count": 19,
   "metadata": {},
   "outputs": [
    {
     "name": "stdout",
     "output_type": "stream",
     "text": [
      "IQR Range: 220.294575\n",
      "Lower fence: -299.6832375\n",
      "Upper fence: 581.4950625\n",
      "Number of outliers: 5655\n"
     ]
    }
   ],
   "source": [
    "SQIQR = SQ3 - SQ1\n",
    "lfence = SQ1 - 1.5 * SQIQR\n",
    "ufence = SQ3 + 1.5 * SQIQR\n",
    "outl = mydf[(mydf['Sales'] < lfence) | (mydf['Sales'] > ufence)]\n",
    "num_outl = len(outl)\n",
    "print(f\"IQR Range: {SQIQR}\")\n",
    "print(f\"Lower fence: {lfence}\")\n",
    "print(f\"Upper fence: {ufence}\")\n",
    "print(f\"Number of outliers: {num_outl}\")"
   ]
  },
  {
   "cell_type": "markdown",
   "metadata": {},
   "source": [
    "### 4C.  Create a BoxWhiskers plot for Sales and Profit."
   ]
  },
  {
   "cell_type": "code",
   "execution_count": 20,
   "metadata": {},
   "outputs": [
    {
     "data": {
      "image/png": "[encoded data removed]",
      "text/plain": [
       "<Figure size 640x480 with 1 Axes>"
      ]
     },
     "metadata": {},
     "output_type": "display_data"
    }
   ],
   "source": [
    "mydf.boxplot(column=['Sales', 'Profit'])\n",
    "plt.title(\"BoxWhiskers plot for Sales and Profit\")\n",
    "plt.xlabel(\"Columns\")\n",
    "plt.ylabel(\"Amount\")\n",
    "plt.show()"
   ]
  },
  {
   "cell_type": "markdown",
   "metadata": {},
   "source": [
    "# 5. Task 5: Probability Theory and Likelihood Estimation (20%)"
   ]
  },
  {
   "cell_type": "markdown",
   "metadata": {},
   "source": [
    "### 5A.  Explain the concepts of probability theory, likelihood estimation, and Bayes Theorem."
   ]
  },
  {
   "cell_type": "markdown",
   "metadata": {},
   "source": [
    "Probability Theory"
   ]
  },
  {
   "cell_type": "markdown",
   "metadata": {},
   "source": [
    "Probability theory is a field of mathematics focused on studying the examination of random events. The main elements of probability theory include random variables, stochastic processes, and events.</br>\n",
    "</br>\n",
    "Key concepts of probability:\n",
    "1. Probability: A measure of the likelihood that an event will occur, ranging from 0 (impossible) to 1 (certain).\n",
    "2. Random Variable: A variable whose possible values are numerical outcomes of a random phenomenon.\n",
    "    1. Discrete Random Variables: Can take a finite or countably infinite number of values (example - the roll of a die).\n",
    "    2. Continuous Random Variables: Can take any value within a range (example - the height of a person).\n",
    "3. Probability Distribution: It describes how the values of a random variable are distributed.\n",
    "    1. Discrete Distribution: Defined by a probability mass function (PMF), which gives the probability that a discrete random variable is exactly equal to some value.\n",
    "    2. Continuous Distribution: Defined by a probability density function (PDF), which describes the likelihood of a continuous random variable taking on a specific value.\n",
    "4. Expected Value: The long-run average value of repetitions of the experiment it represents.\n",
    "5. Variance: Measures the spread of a set of values that is how much the values differ from the mean.\n",
    "6. Central Limit Theorem: The distribution of sample means approaches a normal distribution."
   ]
  },
  {
   "cell_type": "markdown",
   "metadata": {},
   "source": [
    "Likelihood Estimation"
   ]
  },
  {
   "cell_type": "markdown",
   "metadata": {},
   "source": [
    "Likelihood estimation involves determining the probability of observed data under different parameter values of a statistical model. It is a fundamental concept in statistical inference and maximum likelihood estimation (MLE).\n",
    "\n",
    "Working of Likelihood Estimation:\n",
    "1. Likelihood Function: Given a set of data and a statistical model, the likelihood function is a function of the model parameters that describes the probability of the observed data.\n",
    "2. Maximum Likelihood Estimation (MLE): A method to estimate the parameters of a statistical model. It finds the parameter values that maximize the likelihood function.\n",
    "    1. Example: Assuming there is a dataset of heights of individuals, and we assume the data follows a normal distribution with unknown mean (μ) and standard deviation (σ). MLE will find the values of μ and σ that make the observed data most probable.\n",
    "3. Log-Likelihood: Often the logarithm of the likelihood function is used because it simplifies the mathematics of finding the maximum. The reason is that the log function coverts powers into multiples."
   ]
  },
  {
   "cell_type": "markdown",
   "metadata": {},
   "source": [
    "Bayes Theorem"
   ]
  },
  {
   "cell_type": "markdown",
   "metadata": {},
   "source": [
    "Bayes Theorem is a fundamental theorem in probability theory which describes how to update the probabilities of hypotheses when given evidence. It is the cornerstone of Bayesian inference Bayes theorem describes the probability of an event based on prior knowledge and related conditions. The theorem is expressed as:</br></br>\n",
    "P(A|B) = P(B|A).P(A)</br>\n",
    "&nbsp;&nbsp;&nbsp;&nbsp;&nbsp;&nbsp;&nbsp;&nbsp;&nbsp;&nbsp;&nbsp;&nbsp;&nbsp;&nbsp;&nbsp;&nbsp;-----------</br>\n",
    "&nbsp;&nbsp;&nbsp;&nbsp;&nbsp;&nbsp;&nbsp;&nbsp;&nbsp;&nbsp;&nbsp;&nbsp;&nbsp;&nbsp;&nbsp;&nbsp;&nbsp;&nbsp;&nbsp;&nbsp;&nbsp;&nbsp;P(B)</br></br>\n",
    "where,</br>\n",
    "P(A|B)  is the posterior probability: the probability of hypothesis A given the evidence B.</br>\n",
    "P(B|A) is the likelihood: the probability of evidence B given that A is true.</br>\n",
    "P(A) is the prior probability: the initial probability of hypothesis A before seeing the evidence.</br>\n",
    "P(B) is the marginal likelihood: the total probability of the evidence B under all possible hypotheses.</br></br>\n",
    "\n",
    "Applications of Bayes Theorem:\n",
    "1. Medical Diagnosis: Calculating the probability of a disease given test results.\n",
    "2. Spam Filtering: Determining whether an email is spam based on its content.\n",
    "3. Machine Learning: Bayesian inference is used to update the parameters of a model as new data becomes available."
   ]
  },
  {
   "cell_type": "markdown",
   "metadata": {},
   "source": [
    "### 5B.  Provide mathematical intuition and laws of probability."
   ]
  },
  {
   "cell_type": "markdown",
   "metadata": {},
   "source": [
    "Laws of probability -\n",
    "1. Kolmogorov's axioms are the foundation of probability theory, consisting of three main axioms:\n",
    "    1. Non-negativity: P(A) >= 0 i.e. The probability of any event A is a non-negative number.\n",
    "    2. Normalization: P(S) = 1. The probability of the sample space S is 1. The sample space represents all possible outcomes of an experiment.\n",
    "    3. Additivity: For any two mutually exclusive events A and B, P(A U B) = P(A) + P(B)\n",
    "2. Addition and Multiplication Rules:\n",
    "    1. Addition Rule (for non-mutually exclusive events): P(A∪B)=P(A)+P(B)−P(A∩B)\n",
    "    2. Multiplication Rule (for dependent events): P(A∩B)=P(A)⋅P(B|A) for two events A and B, where P(B|A) is the conditional probability of B given A.\n",
    "    3. Multiplication Rule (for independent events): P(A∩B)=P(A)⋅P(B) if A and B are independent, the occurrence of one event does not affect the probability of the other.\n",
    "3. Conditional Probability:\n",
    "    1. Conditional probability is the probability of an event occurring given that another event has already occurred. It is defined as:</br>\n",
    "    P(A|B) = P(A∩B)/P(B) provided P(B) > 0.\n",
    "4. Law of Total Probability:\n",
    "    1. The law of total probability provides a way to compute the probability of an event based on a partition of the sample space. If {Bi} is a partition of the sample space S, then:</br>\n",
    "    P(A) = ∑i P(A∩Bi) = ∑i​\tP(A|Bi)⋅P(Bi)​.\n",
    "5. Bayes' Theorem:\n",
    "    1. Bayes' theorem allows us to update the probability of a hypothesis based on new evidence.\n",
    "    2. It is derived from the definition of conditional probability:</br>\n",
    "    P(A|B)= [P(B|A)⋅P(A)]/P(B)</br>\n",
    "    where,</br>\n",
    "    P(B)=∑i​ P(B|Ai)⋅P(Ai) if {Ai} is a partition of the sample space."
   ]
  },
  {
   "cell_type": "markdown",
   "metadata": {},
   "source": [
    "Mathematical inuition with examples:</br>\n",
    "1. Non-negativity: Probabilities cannot be negative. For example, it is nonsensical to say there is a -20% chance of raining tomorrow.\n",
    "2. Normalization: The probability of all possible outcomes must sum to 1.\n",
    "3. For example, in a single roll of a fair six-sided die, the probability of rolling any one of the six sides is 1/6, and the total probability is 1 (i.e. (1/6)x6 = 1)\n",
    "4. Additivity: If you are calculating the probability of either event A or B happening, and they cannot both happen at the same time, you simply add their probabilities. For instance, the probability of rolling a 1 or a 2 on a fair six-sided die is 1/6 + 1/6 = 2/6 = 1/3.\n",
    "5. Conditional Probability: If it is known that event B has occurred, the probability of event A can change. For example, the probability of drawing a king from a deck of cards is 4/52. However, if it is known that the card drawn is a face card (jack, queen, or king), the probability of it being a king is now 4/12 because there are 12 face cards in total.\n",
    "6. Bayes Theorem: This theorem is useful in various real-life applications, such as medical diagnostics. For example, if 1% of a population has a disease (prior probability), and a test correctly identifies the disease 99% of the time (likelihood), Baye' theorem can help update the probability of having the disease given a positive test result (posterior probability)."
   ]
  },
  {
   "cell_type": "markdown",
   "metadata": {},
   "source": [
    "### 5C.  Perform implementation exercises on these concepts using the dataset."
   ]
  },
  {
   "cell_type": "markdown",
   "metadata": {},
   "source": [
    "Demonstration of probability."
   ]
  },
  {
   "cell_type": "code",
   "execution_count": 21,
   "metadata": {},
   "outputs": [
    {
     "name": "stdout",
     "output_type": "stream",
     "text": [
      "Probability of each order category:Category\n",
      "Office Supplies    0.610041\n",
      "Technology         0.197719\n",
      "Furniture          0.192240\n",
      "Name: count, dtype: float64\n"
     ]
    }
   ],
   "source": [
    "each_count = mydf['Category'].value_counts()\n",
    "prob = each_count / len(mydf)\n",
    "print(f\"Probability of each order category:{prob}\")"
   ]
  },
  {
   "cell_type": "markdown",
   "metadata": {},
   "source": [
    "Example demonstration of estimation of likelihood for a profit of 100$."
   ]
  },
  {
   "cell_type": "code",
   "execution_count": 22,
   "metadata": {},
   "outputs": [
    {
     "name": "stdout",
     "output_type": "stream",
     "text": [
      "count    51290.000000\n",
      "mean        28.610982\n",
      "std        174.340972\n",
      "min      -6599.978000\n",
      "25%          0.000000\n",
      "50%          9.240000\n",
      "75%         36.810000\n",
      "max       8399.976000\n",
      "Name: Profit, dtype: float64\n"
     ]
    },
    {
     "name": "stderr",
     "output_type": "stream",
     "text": [
      "/var/folders/p0/sy3m41v11lg_l368z31s76jw0000gn/T/ipykernel_46716/2167117033.py:7: IntegrationWarning: The maximum number of subdivisions (50) has been achieved.\n",
      "  If increasing the limit yields no improvement it is advised to analyze \n",
      "  the integrand in order to determine the difficulties.  If the position of a \n",
      "  local difficulty can be determined (singularity, discontinuity) one will \n",
      "  probably gain from splitting up the interval and calling the integrator \n",
      "  on the subranges.  Perhaps a special-purpose integrator should be used.\n",
      "  prob_profit_gte_100, _ = quad(kde_func, lower_bound, upper_bound)\n"
     ]
    },
    {
     "name": "stdout",
     "output_type": "stream",
     "text": [
      "\n",
      "Likelihood of profit >= 100 dollars = 0.11621912895105539\n",
      "\n",
      "Likelihood of profit < 100 dollars = 0.8836653406677343\n"
     ]
    },
    {
     "name": "stderr",
     "output_type": "stream",
     "text": [
      "/var/folders/p0/sy3m41v11lg_l368z31s76jw0000gn/T/ipykernel_46716/2167117033.py:8: IntegrationWarning: The maximum number of subdivisions (50) has been achieved.\n",
      "  If increasing the limit yields no improvement it is advised to analyze \n",
      "  the integrand in order to determine the difficulties.  If the position of a \n",
      "  local difficulty can be determined (singularity, discontinuity) one will \n",
      "  probably gain from splitting up the interval and calling the integrator \n",
      "  on the subranges.  Perhaps a special-purpose integrator should be used.\n",
      "  prob_profit_lt_100, _ = quad(kde_func, -np.inf, lower_bound)\n"
     ]
    }
   ],
   "source": [
    "profit = mydf['Profit']\n",
    "print(profit.describe())\n",
    "lk_est = stats.gaussian_kde(profit)\n",
    "kde_func = lambda x: lk_est(x)\n",
    "lower_bound = 100\n",
    "upper_bound = np.inf\n",
    "prob_profit_gte_100, _ = quad(kde_func, lower_bound, upper_bound)\n",
    "prob_profit_lt_100, _ = quad(kde_func, -np.inf, lower_bound)\n",
    "print(f\"\\nLikelihood of profit >= 100 dollars = {prob_profit_gte_100}\")\n",
    "print(f\"\\nLikelihood of profit < 100 dollars = {prob_profit_lt_100}\")"
   ]
  },
  {
   "cell_type": "markdown",
   "metadata": {},
   "source": [
    "Example demonstration of Baye's theorem using above dataset.\n",
    "\n",
    "Assuming an order is considered profitable if the profit >= 100.</br>\n",
    "A profit value of 120 is observed for a specific order.</br>\n",
    "Finding the probability that the customer is profitable given their profit value is 120."
   ]
  },
  {
   "cell_type": "code",
   "execution_count": 23,
   "metadata": {},
   "outputs": [
    {
     "name": "stdout",
     "output_type": "stream",
     "text": [
      "Prior probability (P(H)): 0.11259504776759602\n",
      "Likelihood (P(E|H)): 0.003347757610974203\n",
      "Marginal likelihood (P(E)): 0.0008460899343690197\n",
      "Posterior probability (P(H|E)): 0.44550929258256816\n"
     ]
    }
   ],
   "source": [
    "profit_threshold = 100\n",
    "observed_profit = 120\n",
    "total_orders = len(mydf)\n",
    "profitable_orders = len(mydf[mydf['Profit'] >= profit_threshold])\n",
    "P_H = profitable_orders / total_orders\n",
    "profit = mydf['Profit']\n",
    "kde = stats.gaussian_kde(profit[profit >= profit_threshold])\n",
    "P_E_given_H = kde(observed_profit)[0]\n",
    "kde_total = stats.gaussian_kde(profit)\n",
    "P_E = kde_total(observed_profit)[0]\n",
    "P_H_given_E = (P_E_given_H * P_H) / P_E\n",
    "print(f\"Prior probability (P(H)): {P_H}\")\n",
    "print(f\"Likelihood (P(E|H)): {P_E_given_H}\")\n",
    "print(f\"Marginal likelihood (P(E)): {P_E}\")\n",
    "print(f\"Posterior probability (P(H|E)): {P_H_given_E}\")"
   ]
  },
  {
   "cell_type": "markdown",
   "metadata": {},
   "source": [
    "# 6. Task 6: Sampling Techniques and Confidence Intervals (10%)"
   ]
  },
  {
   "cell_type": "markdown",
   "metadata": {},
   "source": [
    "### 6A.  Explain the concepts of sample, population, and sampling bias."
   ]
  },
  {
   "cell_type": "markdown",
   "metadata": {},
   "source": [
    "**Population:**\n",
    "\n",
    "Population refers to the entire set of individuals, items, or data points that are of interest to a researcher/statistician. It is the complete collection of all elements under study that share common observable characteristics.\n",
    "\n",
    "Examples:\n",
    "1. Example 1: For the study of average height of all adult males in a country, the population would be all adult males in that country.\n",
    "2. Example 2: For the analysis of the performance of a specific model of car, the population would be all cars of that model manufactured by a particular company.\n",
    "\n",
    "In statistical terms, the population is the entire group that a researcher aims to draw conclusions about."
   ]
  },
  {
   "cell_type": "markdown",
   "metadata": {},
   "source": [
    "**Sample:**\n",
    "\n",
    "A sample is a subset of the population that is selected for study. The process of selecting this subset is called sampling.\n",
    "\n",
    "Sampling involves choosing a representative group from the larger population to gather insights or make inferences about the population as a whole. The goal of sampling is to obtain accurate and valid information about the population without needing to study every single individual or element within it.\n",
    "\n",
    "Example:\n",
    "1. Instead of measuring the height of every single adult male in a country (which would be impractical), a random sample of adult males can be selected and measure their heights to estimate the average height of the entire population.\n",
    "2. Survey by a company of a sample of its customers to understand their satisfaction levels rather than surveying every customer.\n",
    "\n",
    "If a sample is well-chosen then it becomes representative of the population and can accurately reflect the characteristics and diversity of the larger group."
   ]
  },
  {
   "cell_type": "markdown",
   "metadata": {},
   "source": [
    "**Sampling Bias:**\n",
    "\n",
    "Sampling bias occurs when the sample selected is not representative of the population from which it is drawn. This can lead to inaccurate conclusions and findings because the sample will not accurately reflect the characteristics of the population.\n",
    "\n",
    "Sampling bias can arise due to below reasons:\n",
    "1. Selection bias: This occurs when certain individuals or elements of the population are systematically more likely to be included in the sample than others. For example, if a survey is conducted only among people who have internet access, it may not represent the entire population accurately.\n",
    "2. Non-response bias: This happens when individuals or elements of the population refuse or are unable to participate in the study, and their absence from the sample skews the results.\n",
    "3. Measurement bias: This occurs when the methods used to measure or collect data favor certain outcomes over others, leading to a biased sample.\n",
    "\n",
    "Sampling bias must be addressed. It is crucial to ensure the validity and reliability of statistical findings. Techniques such as random sampling, stratified sampling, and careful consideration of the sampling frame can mitigate bias and improve the representativeness of the sample."
   ]
  },
  {
   "cell_type": "markdown",
   "metadata": {},
   "source": [
    "### 6B.  Calculate the sample mean for Sales."
   ]
  },
  {
   "cell_type": "code",
   "execution_count": 24,
   "metadata": {},
   "outputs": [
    {
     "name": "stdout",
     "output_type": "stream",
     "text": [
      "The sample mean of sales = 246.4905812025736\n"
     ]
    }
   ],
   "source": [
    "sample_mean_sales = mydf['Sales'].mean()\n",
    "print(f\"The sample mean of sales = {sample_mean_sales}\")"
   ]
  },
  {
   "cell_type": "markdown",
   "metadata": {},
   "source": [
    "### 6C.  Construct confidence intervals for the mean Sales."
   ]
  },
  {
   "cell_type": "code",
   "execution_count": 25,
   "metadata": {},
   "outputs": [
    {
     "name": "stdout",
     "output_type": "stream",
     "text": [
      "Confidence interval for mean sales (95%): (242.27094670992258, 250.7102156952246)\n"
     ]
    }
   ],
   "source": [
    "sales_df = mydf['Sales']\n",
    "confidence = 0.95 # 95%\n",
    "sample_mean = sales_df.mean()\n",
    "sem = stats.sem(sales_df)\n",
    "dof = len(sales_df) - 1\n",
    "t_value = stats.t.ppf((1 + confidence) / 2, dof)\n",
    "margin_of_error = sem * t_value\n",
    "confidence_interval = (sample_mean - margin_of_error, sample_mean + margin_of_error)\n",
    "print(f\"Confidence interval for mean sales (95%): {confidence_interval}\")"
   ]
  },
  {
   "cell_type": "markdown",
   "metadata": {},
   "source": [
    "# 7. Task 7: Probability Distribution Functions (10%)"
   ]
  },
  {
   "cell_type": "markdown",
   "metadata": {},
   "source": [
    "### 7A.  Explain the probability distribution functions, focusing on continuous, normal, and standard normal distributions."
   ]
  },
  {
   "cell_type": "markdown",
   "metadata": {},
   "source": [
    "**Probability distribution function (PDF):**</br>\n",
    "A probability distribution function (PDF) describes the likelihood of a random variable taking on a particular value or set of values.</br>\n",
    "It maps out the probabilities of all possible outcomes of a random variable.</br>\n",
    "For a continuous random variable X, the PDF is denoted as f(x), where f(x)≥0 for all x and the total area under the curve equals 1.</br>\n",
    "\n",
    "Key Properties of PDF:\n",
    "1. Non-negative values: f(x)≥0 for all x.\n",
    "2. Area under the curve: The total area under the PDF curve over all possible values of x is equal to 1, representing the total probability of all possible outcomes.\n",
    "\n",
    "Interpretation of PDF:\n",
    "1. Probability interpretation:  The value of f(x) itself does not represent a probability (since probabilities are defined over intervals), the probability of X falling within a specific interval [a,b] is given by the integral of f(x) over that interval:</br>\n",
    "P(a≤X≤b)=∫ab f(x)dx\n",
    "2. Height of the PDF: The height of the PDF at a particular point x (i.e. f(x)) indicates the relative likelihood of observing X near x. Higher values of f(x) indicates that x is more likely to occur compared to lower values.\n",
    "\n",
    "**Cumulative Distribution Function (CDF)**</br>\n",
    "The Cumulative Distribution Function (CDF), denoted as F(x), gives the probability that a random variable X takes on a value less than or equal to x. In other words, it provides the cumulative probability up to x.</br>\n",
    "It is given by:</br>\n",
    "F(x)=P(X≤x) = ∫ −∞,x​\tf(t)dt\n",
    "\n",
    "Key Properties of CDF:\n",
    "1. Monotonicity: F(x) is non-decreasing; as x increases, F(x) either remains constant or increases.\n",
    "2. Range: 0≤F(x)≤1 for all x.\n",
    "3. Behavior at extremes: F(−∞) = 0 and F(+∞) = 1.\n",
    "\n",
    "Interpretation:\n",
    "F(x) gives the probability that the random variable X is less than or equal to x. Therefore, F(x) provides a cumulative view of the distribution, showing how probabilities accumulate as x increases.\n",
    "\n",
    "**Continuous Probability Distributions:**</br>\n",
    "In continuous probability distributions, the random variable can take on any value within a certain range (typically an interval of real numbers).\n",
    "\n",
    "Key characteristics of continuous distributions are:\n",
    "1. Probability Density Function (PDF): This function, denoted as f(x) specifies the probability density (probability per unit length on the x-axis) at each possible value x. The area under the PDF curve over a range of values gives the probability that the random variable falls within that range.\n",
    "2. Cumulative Distribution Function (CDF): The CDF, denoted as F(x), gives the probability that the random variable takes on a value less than or equal to x. It is the integral of the PDF from negative infinity to x.\n",
    "3. Example: Normal distribution, exponential distribution, uniform distribution, and beta distribution.\n",
    "\n",
    "**Normal distribution:**</br>\n",
    "The normal distribution, also known as the Gaussian distribution, is one of the most important and widely used continuous probability distributions.\n",
    "</br>Its PDF is given by:</br>\n",
    "f(x|μ,σ^2) = 1/Sqrt((2πσ^2)) exp(−((x−μ)^2)/2σ^2)</br>\n",
    "where:</br>\n",
    "μ (mean) specifies the center of the distribution.</br>\n",
    "σ^2 (variance) controls the spread or dispersion of the distribution.\n",
    "\n",
    "Characteristics of the Normal Distribution:\n",
    "1. Bell-shaped curve: The PDF of the normal distribution is symmetric and bell-shaped, with its peak at the mean μ.\n",
    "2. 68-95-99.7 Rule: Approximately 68% of the data falls within one standard deviation (σ) of the mean, 95% within two standard deviations, and 99.7% within three standard deviations.\n",
    "3. Standard Normal Distribution: A special case of the normal distribution where μ = 0 and σ = 1\n",
    "4. The standard normal distribution is denoted by Z ∼ N(0,1).\n",
    "\n",
    "**Standard Normal Distribution:**</br>\n",
    "The standard normal distribution is a specific normal distribution with a mean μ=0 and variance σ^2 = 1.</br>\n",
    "Its PDF is:</br>\n",
    "ϕ(z) = 1/Sqrt(2π) exp(−((z^2)/2))</br>\n",
    "where,</br>\n",
    "z is the standardized variable (z = x−μ/σ).\n",
    "\n",
    "Characteristics of the Standard Normal Distribution:\n",
    "1. The PDF ϕ(z) has a mean of 0 and a standard deviation of 1.\n",
    "2. It is symmetric about z = 0, with the peak occurring at z = 0.\n",
    "3. The CDF Φ(z) is often computed to find probabilities associated with the standard normal distribution."
   ]
  },
  {
   "cell_type": "markdown",
   "metadata": {},
   "source": [
    "### 7B.  Implement and visualize these distributions using the Sales data."
   ]
  },
  {
   "cell_type": "code",
   "execution_count": 26,
   "metadata": {},
   "outputs": [
    {
     "data": {
      "image/png": "[encoded data removed]",
      "text/plain": [
       "<Figure size 2000x800 with 1 Axes>"
      ]
     },
     "metadata": {},
     "output_type": "display_data"
    }
   ],
   "source": [
    "plt.figure(figsize=(20, 8))\n",
    "sns.histplot(mydf['Sales'], bins=50, kde=True, color='green')\n",
    "plt.title('Distribution of sales data')\n",
    "plt.xlabel('Sales')\n",
    "plt.ylabel('Frequency')\n",
    "plt.show()"
   ]
  },
  {
   "cell_type": "code",
   "execution_count": 27,
   "metadata": {},
   "outputs": [
    {
     "name": "stderr",
     "output_type": "stream",
     "text": [
      "/var/folders/p0/sy3m41v11lg_l368z31s76jw0000gn/T/ipykernel_46716/2721084452.py:9: UserWarning: color is redundantly defined by the 'color' keyword argument and the fmt string \"k\" (-> color=(0.0, 0.0, 0.0, 1)). The keyword argument will take precedence.\n",
      "  plt.plot(np.linspace(xmin, xmax, 100), p, 'k', linewidth=2, color='green', label=f'Normal Distribution\\n$\\mu={mean:.2f}$, $\\sigma={std:.2f}$')\n"
     ]
    },
    {
     "data": {
      "image/png": "[encoded data removed]",
      "text/plain": [
       "<Figure size 2000x800 with 1 Axes>"
      ]
     },
     "metadata": {},
     "output_type": "display_data"
    }
   ],
   "source": [
    "# Normal distribution\n",
    "mean, std = norm.fit(sales_df)\n",
    "plt.figure(figsize=(20, 8))\n",
    "sns.histplot(mydf['Sales'], bins=50, kde=True, color='green', label='Sales Data')\n",
    "\n",
    "# PDF of the fitted normal distribution\n",
    "xmin, xmax = plt.xlim()\n",
    "p = norm.pdf(np.linspace(xmin, xmax, 100), mean, std)\n",
    "plt.plot(np.linspace(xmin, xmax, 100), p, 'k', linewidth=2, color='green', label=f'Normal Distribution\\n$\\mu={mean:.2f}$, $\\sigma={std:.2f}$')\n",
    "\n",
    "plt.title('Histogram and sales data fitted normal distribution')\n",
    "plt.xlabel('Sales')\n",
    "plt.ylabel('Density')\n",
    "plt.legend()\n",
    "plt.show()"
   ]
  },
  {
   "cell_type": "code",
   "execution_count": 28,
   "metadata": {},
   "outputs": [
    {
     "data": {
      "image/png": "[encoded data removed]",
      "text/plain": [
       "<Figure size 2000x800 with 1 Axes>"
      ]
     },
     "metadata": {},
     "output_type": "display_data"
    }
   ],
   "source": [
    "# Standardize Sales data to fit standard normal distribution\n",
    "sales_z = (sales_df - mean) / std\n",
    "plt.figure(figsize=(20, 8))\n",
    "sns.histplot(sales_z, bins=50, kde=True, color='green', label='Standardized Sales Data')\n",
    "\n",
    "# PDF of the standard normal distribution\n",
    "xstd = np.linspace(-3, 3, 100)\n",
    "pstd = norm.pdf(xstd, 0, 1)\n",
    "plt.plot(xstd, pstd, 'k', linewidth=2, label='Standard Normal Distribution')\n",
    "\n",
    "plt.title('Histogram and sales data standard normal distribution')\n",
    "plt.xlabel('Standardized Sales')\n",
    "plt.ylabel('Density')\n",
    "plt.legend()\n",
    "plt.show()"
   ]
  }
 ],
 "metadata": {
  "kernelspec": {
   "display_name": "Python 3",
   "language": "python",
   "name": "python3"
  },
  "language_info": {
   "codemirror_mode": {
    "name": "ipython",
    "version": 3
   },
   "file_extension": ".py",
   "mimetype": "text/x-python",
   "name": "python",
   "nbconvert_exporter": "python",
   "pygments_lexer": "ipython3",
   "version": "3.11.4"
  }
 },
 "nbformat": 4,
 "nbformat_minor": 2
}
